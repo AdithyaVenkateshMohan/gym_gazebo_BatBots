{
 "cells": [
  {
   "cell_type": "code",
   "execution_count": 10,
   "metadata": {},
   "outputs": [
    {
     "ename": "SyntaxError",
     "evalue": "invalid syntax (<ipython-input-10-5dff09815821>, line 3)",
     "output_type": "error",
     "traceback": [
      "\u001b[0;36m  File \u001b[0;32m\"<ipython-input-10-5dff09815821>\"\u001b[0;36m, line \u001b[0;32m3\u001b[0m\n\u001b[0;31m    from ../srv/MoveToPtr.srv import *\u001b[0m\n\u001b[0m           ^\u001b[0m\n\u001b[0;31mSyntaxError\u001b[0m\u001b[0;31m:\u001b[0m invalid syntax\n"
     ]
    }
   ],
   "source": [
    "import rospy\n",
    "import sys\n",
    "from ../srv/MoveToPtr.srv import *"
   ]
  },
  {
   "cell_type": "code",
   "execution_count": 7,
   "metadata": {},
   "outputs": [
    {
     "name": "stdout",
     "output_type": "stream",
     "text": [
      "list ros srv \n",
      "WARNING: Package name \"SetPoseforObjects\" does not follow the naming conventions. It should start with a lower case letter and only contain lower case letters, digits, underscores, and dashes.\n",
      "WARNING: Package name \"gazebo_rosPosePublisher\" does not follow the naming conventions. It should start with a lower case letter and only contain lower case letters, digits, underscores, and dashes.\n",
      "SetPoseforObjects/MoveToPtr\n",
      "astra_camera/GetSerial\n",
      "capabilities/EstablishBond\n",
      "capabilities/FreeCapability\n",
      "capabilities/GetCapabilitySpec\n",
      "capabilities/GetCapabilitySpecs\n",
      "capabilities/GetInterfaces\n",
      "capabilities/GetNodeletManagerName\n",
      "capabilities/GetProviders\n",
      "capabilities/GetRemappings\n",
      "capabilities/GetRunningCapabilities\n",
      "capabilities/GetSemanticInterfaces\n",
      "capabilities/StartCapability\n",
      "capabilities/StopCapability\n",
      "capabilities/UseCapability\n",
      "control_msgs/QueryCalibrationState\n",
      "control_msgs/QueryTrajectoryState\n",
      "control_toolbox/SetPidGains\n",
      "controller_manager_msgs/ListControllerTypes\n",
      "controller_manager_msgs/ListControllers\n",
      "controller_manager_msgs/LoadController\n",
      "controller_manager_msgs/ReloadControllerLibraries\n",
      "controller_manager_msgs/SwitchController\n",
      "controller_manager_msgs/UnloadController\n",
      "create_node/SetDigitalOutputs\n",
      "create_node/SetTurtlebotMode\n",
      "diagnostic_msgs/AddDiagnostics\n",
      "diagnostic_msgs/SelfTest\n",
      "dynamic_reconfigure/Reconfigure\n",
      "gateway_msgs/Advertise\n",
      "gateway_msgs/AdvertiseAll\n",
      "gateway_msgs/ConnectHub\n",
      "gateway_msgs/Remote\n",
      "gateway_msgs/RemoteAll\n",
      "gateway_msgs/RemoteGatewayInfo\n",
      "gateway_msgs/SetWatcherPeriod\n",
      "gazebo_msgs/ApplyBodyWrench\n",
      "gazebo_msgs/ApplyJointEffort\n",
      "gazebo_msgs/BodyRequest\n",
      "gazebo_msgs/DeleteLight\n",
      "gazebo_msgs/DeleteModel\n",
      "gazebo_msgs/GetJointProperties\n",
      "gazebo_msgs/GetLightProperties\n",
      "gazebo_msgs/GetLinkProperties\n",
      "gazebo_msgs/GetLinkState\n",
      "gazebo_msgs/GetModelProperties\n",
      "gazebo_msgs/GetModelState\n",
      "gazebo_msgs/GetPhysicsProperties\n",
      "gazebo_msgs/GetWorldProperties\n",
      "gazebo_msgs/JointRequest\n",
      "gazebo_msgs/SetJointProperties\n",
      "gazebo_msgs/SetJointTrajectory\n",
      "gazebo_msgs/SetLightProperties\n",
      "gazebo_msgs/SetLinkProperties\n",
      "gazebo_msgs/SetLinkState\n",
      "gazebo_msgs/SetModelConfiguration\n",
      "gazebo_msgs/SetModelState\n",
      "gazebo_msgs/SetPhysicsProperties\n",
      "gazebo_msgs/SpawnModel\n",
      "gazebo_test_tools/RecognizeGazeboObject\n",
      "laser_assembler/AssembleScans\n",
      "laser_assembler/AssembleScans2\n",
      "map_msgs/GetMapROI\n",
      "map_msgs/GetPointMap\n",
      "map_msgs/GetPointMapROI\n",
      "map_msgs/ProjectedMapsInfo\n",
      "map_msgs/SaveMap\n",
      "map_msgs/SetMapProjections\n",
      "nav_msgs/GetMap\n",
      "nav_msgs/GetPlan\n",
      "nav_msgs/SetMap\n",
      "navfn/MakeNavPlan\n",
      "navfn/SetCostmap\n",
      "nodelet/NodeletList\n",
      "nodelet/NodeletLoad\n",
      "nodelet/NodeletUnload\n",
      "object_msgs/ObjectInfo\n",
      "object_msgs/RegisterObject\n",
      "object_recognition_msgs/GetObjectInformation\n",
      "openni2_camera/GetSerial\n",
      "polled_camera/GetPolledImage\n",
      "realsense_camera/CameraConfiguration\n",
      "realsense_camera/ForcePower\n",
      "realsense_camera/GetIMUInfo\n",
      "realsense_camera/IsPowered\n",
      "realsense_camera/SetPower\n",
      "robot_pose_ekf/GetStatus\n",
      "rocon_app_manager_msgs/GetRappList\n",
      "rocon_app_manager_msgs/Init\n",
      "rocon_app_manager_msgs/Invite\n",
      "rocon_app_manager_msgs/StartRapp\n",
      "rocon_app_manager_msgs/StopRapp\n",
      "rocon_interaction_msgs/GetInteraction\n",
      "rocon_interaction_msgs/GetInteractions\n",
      "rocon_interaction_msgs/GetPairings\n",
      "rocon_interaction_msgs/RequestInteraction\n",
      "rocon_interaction_msgs/SetInteractions\n",
      "rocon_interaction_msgs/StartPairing\n",
      "rocon_interaction_msgs/StopPairing\n",
      "rocon_std_msgs/EmptyString\n",
      "roscpp/Empty\n",
      "roscpp/GetLoggers\n",
      "roscpp/SetLoggerLevel\n",
      "roscpp_tutorials/TwoInts\n",
      "rospy_tutorials/AddTwoInts\n",
      "rospy_tutorials/BadTwoInts\n",
      "sensor_msgs/SetCameraInfo\n",
      "std_srvs/Empty\n",
      "std_srvs/SetBool\n",
      "std_srvs/Trigger\n",
      "stdr_msgs/AddCO2Source\n",
      "stdr_msgs/AddRfidTag\n",
      "stdr_msgs/AddSoundSource\n",
      "stdr_msgs/AddThermalSource\n",
      "stdr_msgs/DeleteCO2Source\n",
      "stdr_msgs/DeleteRfidTag\n",
      "stdr_msgs/DeleteSoundSource\n",
      "stdr_msgs/DeleteThermalSource\n",
      "stdr_msgs/LoadExternalMap\n",
      "stdr_msgs/LoadMap\n",
      "stdr_msgs/MoveRobot\n",
      "stdr_msgs/RegisterGui\n",
      "tf/FrameGraph\n",
      "tf2_msgs/FrameGraph\n",
      "topic_tools/DemuxAdd\n",
      "topic_tools/DemuxDelete\n",
      "topic_tools/DemuxList\n",
      "topic_tools/DemuxSelect\n",
      "topic_tools/MuxAdd\n",
      "topic_tools/MuxDelete\n",
      "topic_tools/MuxList\n",
      "topic_tools/MuxSelect\n",
      "turtlebot_msgs/SetFollowState\n",
      "turtlebot_msgs/TakePanorama\n",
      "turtlesim/Kill\n",
      "turtlesim/SetPen\n",
      "turtlesim/Spawn\n",
      "turtlesim/TeleportAbsolute\n",
      "turtlesim/TeleportRelative\n",
      "world_canvas_msgs/DeleteAnnotations\n",
      "world_canvas_msgs/DeleteMap\n",
      "world_canvas_msgs/EditAnnotationsData\n",
      "world_canvas_msgs/GetAnnotations\n",
      "world_canvas_msgs/GetAnnotationsData\n",
      "world_canvas_msgs/ListMaps\n",
      "world_canvas_msgs/ListWorlds\n",
      "world_canvas_msgs/PubAnnotationsData\n",
      "world_canvas_msgs/PublishMap\n",
      "world_canvas_msgs/RenameMap\n",
      "world_canvas_msgs/ResetDatabase\n",
      "world_canvas_msgs/SaveAnnotationsData\n",
      "world_canvas_msgs/SaveMap\n",
      "world_canvas_msgs/SetKeyword\n",
      "world_canvas_msgs/SetRelationship\n",
      "world_canvas_msgs/YAMLExport\n",
      "world_canvas_msgs/YAMLImport\n",
      "yocs_msgs/WaypointListService\n",
      "zeroconf_msgs/AddListener\n",
      "zeroconf_msgs/AddService\n",
      "zeroconf_msgs/ListDiscoveredServices\n",
      "zeroconf_msgs/ListPublishedServices\n",
      "zeroconf_msgs/RemoveListener\n",
      "zeroconf_msgs/RemoveService\n"
     ]
    }
   ],
   "source": [
    "print(\"list ros srv \")\n",
    "!rossrv list "
   ]
  },
  {
   "cell_type": "code",
   "execution_count": 6,
   "metadata": {},
   "outputs": [
    {
     "name": "stdout",
     "output_type": "stream",
     "text": [
      "/rosout\n",
      "list of ros topic avail\n",
      "/rosout\n",
      "/rosout_agg\n"
     ]
    }
   ],
   "source": [
    "!rosnode list\n",
    "print(\"list of ros topic avail\")\n",
    "!rostopic list\n"
   ]
  },
  {
   "cell_type": "code",
   "execution_count": 9,
   "metadata": {},
   "outputs": [
    {
     "name": "stdout",
     "output_type": "stream",
     "text": [
      "SetposeClient.ipynb  SetPoseforObjects.cc\n",
      "SetposeClient.ipynb  SetPoseforObjects.cc\n"
     ]
    }
   ],
   "source": [
    "\n"
   ]
  },
  {
   "cell_type": "code",
   "execution_count": null,
   "metadata": {},
   "outputs": [],
   "source": []
  }
 ],
 "metadata": {
  "kernelspec": {
   "display_name": "Python 3",
   "language": "python",
   "name": "python3"
  },
  "language_info": {
   "codemirror_mode": {
    "name": "ipython",
    "version": 2
   },
   "file_extension": ".py",
   "mimetype": "text/x-python",
   "name": "python",
   "nbconvert_exporter": "python",
   "pygments_lexer": "ipython2",
   "version": "2.7.12"
  }
 },
 "nbformat": 4,
 "nbformat_minor": 2
}
