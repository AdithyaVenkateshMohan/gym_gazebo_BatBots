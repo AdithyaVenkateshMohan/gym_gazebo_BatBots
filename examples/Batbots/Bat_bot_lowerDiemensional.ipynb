{
 "cells": [
  {
   "cell_type": "code",
   "execution_count": 1,
   "metadata": {},
   "outputs": [],
   "source": [
    "import gym\n",
    "from gym import wrappers\n",
    "# run that setup file to avoid errors\n",
    "\n",
    "import gym_gazebo\n",
    "import time\n",
    "import numpy\n",
    "import random\n",
    "import time\n",
    "import numpy as np\n",
    "import matplotlib.pyplot as plt\n",
    "%matplotlib inline"
   ]
  },
  {
   "cell_type": "code",
   "execution_count": 2,
   "metadata": {},
   "outputs": [],
   "source": [
    "import rospy\n",
    "#import tf\n",
    "import numpy as np\n",
    "import random\n",
    "from collections import namedtuple, deque\n",
    "from queue import PriorityQueue\n",
    "\n",
    "# from model import QNetwork\n",
    "# from model import QNetworkCNN\n",
    "from torch.autograd import Variable\n",
    "\n",
    "import torch\n",
    "import torch.nn.functional as F\n",
    "import torch.optim as optim"
   ]
  },
  {
   "cell_type": "code",
   "execution_count": 3,
   "metadata": {},
   "outputs": [
    {
     "name": "stdout",
     "output_type": "stream",
     "text": [
      "cuda:0\n"
     ]
    }
   ],
   "source": [
    "\n",
    "import torch\n",
    "from torch import nn\n",
    "from collections import deque\n",
    "device = torch.device(\"cuda:0\" if torch.cuda.is_available() else \"cpu\")\n",
    "print(device)\n"
   ]
  },
  {
   "cell_type": "code",
   "execution_count": 4,
   "metadata": {},
   "outputs": [
    {
     "name": "stdout",
     "output_type": "stream",
     "text": [
      "Gazebo launched!\n",
      "Unable to register with master node [http://localhost:11311]: master may not be running yet. Will keep trying.\n"
     ]
    }
   ],
   "source": [
    "env = gym.make('GazeboBATBot_Sonar-v1')"
   ]
  },
  {
   "cell_type": "code",
   "execution_count": 5,
   "metadata": {},
   "outputs": [
    {
     "name": "stdout",
     "output_type": "stream",
     "text": [
      "torch.Size([1, 100, 1])\n",
      "out size torch.Size([1, 100, 4])\n",
      "covolutional layer Conv1d(100, 100, kernel_size=(8,), stride=(1,), padding=(5,))\n"
     ]
    }
   ],
   "source": [
    "# checking the working of 1D conv \n",
    "a = torch.randn(1, 100, 1)  \n",
    "\n",
    "print(a.size())\n",
    "m = nn.Conv1d(100, 100, kernel_size = 8 , stride = 1 , padding = 5 ) \n",
    "out = m(a)\n",
    "print(\"out size\",out.size())\n",
    "print(\"covolutional layer\",m)\n",
    "\n"
   ]
  },
  {
   "cell_type": "code",
   "execution_count": 7,
   "metadata": {},
   "outputs": [
    {
     "name": "stdout",
     "output_type": "stream",
     "text": [
      "debug 3\n",
      "plotting echoes...\n"
     ]
    },
    {
     "data": {
      "image/png": "[encoded data removed]",
      "text/plain": [
       "<Figure size 432x288 with 1 Axes>"
      ]
     },
     "metadata": {
      "needs_background": "light"
     },
     "output_type": "display_data"
    },
    {
     "name": "stdout",
     "output_type": "stream",
     "text": [
      "plotting echoes...\n",
      "l e 17.818839201946638  R E 3.02582656453493 energies 120.42634625450118 11.986081754468337\n"
     ]
    },
    {
     "data": {
      "image/png": "[encoded data removed]",
      "text/plain": [
       "<Figure size 432x288 with 1 Axes>"
      ]
     },
     "metadata": {
      "needs_background": "light"
     },
     "output_type": "display_data"
    },
    {
     "name": "stdout",
     "output_type": "stream",
     "text": [
      "debug 2\n",
      "debug\n",
      "the observation size 2 the reduced observation (17.818839201946638, 3.02582656453493)\n"
     ]
    }
   ],
   "source": [
    "action = 1\n",
    "observation, reward, done, info = env.step(action, debug = True)\n",
    "print(\"the observation size\", len(observation), \"the reduced observation\", observation)\n"
   ]
  },
  {
   "cell_type": "code",
   "execution_count": 27,
   "metadata": {},
   "outputs": [],
   "source": [
    "import sys\n",
    "def print_slow(str , delay = 0.1):\n",
    "    for letter in str:\n",
    "        sys.stdout.write(letter)\n",
    "        sys.stdout.flush()\n",
    "        time.sleep(delay)"
   ]
  },
  {
   "cell_type": "code",
   "execution_count": 28,
   "metadata": {},
   "outputs": [
    {
     "name": "stdout",
     "output_type": "stream",
     "text": [
      "aye aye aye enga paru"
     ]
    }
   ],
   "source": [
    "print_slow(\"aye aye aye enga paru\")"
   ]
  },
  {
   "cell_type": "code",
   "execution_count": 8,
   "metadata": {},
   "outputs": [],
   "source": [
    "import torch\n",
    "import torch.nn as nn\n",
    "import torch.nn.functional as F"
   ]
  },
  {
   "cell_type": "code",
   "execution_count": null,
   "metadata": {},
   "outputs": [],
   "source": []
  },
  {
   "cell_type": "code",
   "execution_count": 9,
   "metadata": {},
   "outputs": [
    {
     "name": "stdout",
     "output_type": "stream",
     "text": [
      "the state_type of the observation <class 'tuple'> (17.818839201946638, 3.02582656453493)\n"
     ]
    }
   ],
   "source": [
    "\n",
    "state_Type = type(observation)\n",
    "print(\"the state_type of the observation\", state_Type , observation)"
   ]
  },
  {
   "cell_type": "code",
   "execution_count": null,
   "metadata": {},
   "outputs": [],
   "source": []
  },
  {
   "cell_type": "code",
   "execution_count": null,
   "metadata": {},
   "outputs": [],
   "source": []
  },
  {
   "cell_type": "code",
   "execution_count": 10,
   "metadata": {},
   "outputs": [],
   "source": [
    "class QNetworkCNN_1D_BATBOT(nn.Module):\n",
    "    \"\"\"Actor (Policy) Model.\"\"\"\n",
    "\n",
    "    def __init__(self, state_size, action_size, seed, fc1_units=64, fc2_units=64 , dropout = 0.1 , augment_frames = 3 ):\n",
    "        \"\"\"Initialize parameters and build model.\n",
    "        Params\n",
    "        ======\n",
    "            state_size (int): Dimension of each state\n",
    "            action_size (int): Dimension of each action\n",
    "            seed (int): Random seed\n",
    "            fc1_units (int): Number of nodes in first hidden layer\n",
    "            fc2_units (int): Number of nodes in second hidden layer\n",
    "        \"\"\"\n",
    "        super(QNetworkCNN_1D_BATBOT, self).__init__()\n",
    "        self.seed = torch.manual_seed(seed = seed)\n",
    "        self.conv1_left = nn.Conv1d(augment_frames, 128, kernel_size = 128 , stride=5, padding=1)\n",
    "        self.conv1bnorm_left = nn.BatchNorm1d(128)\n",
    "        self.conv2_left = nn.Conv1d(128, 64, kernel_size = 16, stride=2, padding=1)\n",
    "        self.conv2bnorm_left = nn.BatchNorm1d(64)\n",
    "        self.conv3_left = nn.Conv1d(64, 64, kernel_size = 5, stride=1, padding=1)\n",
    "        self.conv3bnorm_left = nn.BatchNorm1d(64)\n",
    "        self.dropout_left = nn.Dropout(dropout)\n",
    "        self.pool_left = nn.MaxPool1d(kernel_size = 4, stride = 4 )\n",
    "        \n",
    "        self.conv1_right = nn.Conv1d(augment_frames, 128, kernel_size= 128, stride=5, padding=1)\n",
    "        self.conv1bnorm_right = nn.BatchNorm1d(128)\n",
    "        self.conv2_right = nn.Conv1d(128, 64, kernel_size = 16, stride=2, padding=1)\n",
    "        self.conv2bnorm_right = nn.BatchNorm1d(64)\n",
    "        self.conv3_right = nn.Conv1d(64, 64, kernel_size = 5, stride=1, padding=1)\n",
    "        self.conv3bnorm_right = nn.BatchNorm1d(64)\n",
    "        self.dropout_right = nn.Dropout(dropout)\n",
    "        self.pool_right = nn.MaxPool1d(kernel_size = 4, stride = 4 )\n",
    "        \n",
    "        # this needs to be changed accordingly\n",
    "        self.in_linear = 6*64\n",
    "        \n",
    "        self.fc1 = nn.Linear(2*self.in_linear, fc1_units)\n",
    "        self.fc1bnorm = nn.BatchNorm1d(fc1_units)\n",
    "        self.fc2 = nn.Linear(fc1_units,  fc2_units)\n",
    "        self.fc2bnorm = nn.BatchNorm1d(fc2_units)\n",
    "        self.fc2d = nn.Linear(fc2_units,  fc2_units)\n",
    "        self.fc2dbnorm = nn.BatchNorm1d(fc2_units)\n",
    "        self.fc3 = nn.Linear(fc2_units, action_size)\n",
    "        self.dropout = nn.Dropout(dropout) \n",
    "\n",
    "    def forward(self, left_state, right_state):\n",
    "        \"\"\"Build a network that maps state -> action values.\"\"\"\n",
    "        x1 = self.conv1_left(left_state)\n",
    "        x1 = self.conv1bnorm_left(x1)\n",
    "        x1 = F.relu(x1)\n",
    "        x1 = self.pool_left(x1)\n",
    "        x1 = self.conv2_left(x1)\n",
    "        x1 = self.conv2bnorm_left(x1)\n",
    "        x1 = F.relu(x1)\n",
    "        x1 = self.pool_left(x1)\n",
    "        x1 = self.conv3_left(x1)\n",
    "        x1 = self.conv3bnorm_left(x1)\n",
    "        x1 = F.relu(x1)\n",
    "        x1 = self.pool_left(x1)\n",
    "        \n",
    "        x2 = self.conv1_right(right_state)\n",
    "        x2 = self.conv1bnorm_right(x2)\n",
    "        x2 = F.relu(x2)\n",
    "        x2 = self.pool_right(x2)\n",
    "        x2 = self.conv2_right(x2)\n",
    "        x2 = self.conv2bnorm_right(x2)\n",
    "        x2 = F.relu(x2)\n",
    "        x2 = self.pool_right(x2)\n",
    "        x2 = self.conv3_right(x2)\n",
    "        x2 = self.conv3bnorm_right(x2)\n",
    "        x2 = F.relu(x2)\n",
    "        x2 = self.pool_right(x2)\n",
    "        \n",
    "        \n",
    "        \n",
    "        #print(x.size())\n",
    "        x1 = x1.view(-1,self.in_linear)\n",
    "        x2 = x2.view(-1,self.in_linear)\n",
    "        x = torch.cat((x1,x2)).view(-1, 2*self.in_linear)\n",
    "        #print(x.size())\n",
    "        x = self.fc1(x)\n",
    "        x = self.fc1bnorm(x)\n",
    "        x = F.relu(x)\n",
    "        x = self.dropout(x)\n",
    "        x = self.fc2(x)\n",
    "        x = self.fc2bnorm(x)\n",
    "        x = F.relu(x)\n",
    "        x = self.dropout(x)\n",
    "        x = self.fc2d(x)\n",
    "        x = self.fc2dbnorm(x)\n",
    "        x = F.relu(x)\n",
    "        x = self.dropout(x)\n",
    "        \n",
    "        return self.fc3(x)"
   ]
  },
  {
   "cell_type": "code",
   "execution_count": 11,
   "metadata": {},
   "outputs": [],
   "source": [
    "# this uses the lower diemensional data \n",
    "# energies of the echo from the left and right hear \n",
    "class QNetworkANN_BATBOT(nn.Module):\n",
    "    def __init__(self, state_size , action_size , seed, fc1_units=64, fc2_units=64 ,fc3_units = 64, dropout = 0.3, augment_frames = 3):\n",
    "        super(QNetworkANN_BATBOT, self).__init__()\n",
    "        self.in_linear = 2*augment_frames\n",
    "        # LAYER 1 - input layer\n",
    "        self.fc1 = nn.Linear(self.in_linear , fc1_units)\n",
    "        self.fc1bnorm = nn.BatchNorm1d(fc1_units)\n",
    "        # HIDDEN LAYER 1\n",
    "        self.fc2 = nn.Linear(fc1_units,fc2_units)\n",
    "        self.fc2bnorm = nn.BatchNorm1d(fc2_units)\n",
    "        # HIDDEN LAYER 2\n",
    "        self.fc3 = nn.Linear(fc2_units,fc3_units)\n",
    "        self.fc3bnorm = nn.BatchNorm1d(fc3_units)\n",
    "        # OUTPUT LAYER\n",
    "        self.fc4 = nn.Linear(fc3_units, action_size)\n",
    "        #DROPOUT\n",
    "        self.dropout = nn.Dropout(dropout) \n",
    "    def forward(self, left_state , right_state):\n",
    "        #joining the left ear and right ear\n",
    "        x = torch.cat((left_state,right_state)).view(-1, self.in_linear)\n",
    "        #INPUT BLOCK\n",
    "        x = self.fc1(x)\n",
    "        x = self.fc1bnorm(x)\n",
    "        x = F.relu(x)\n",
    "        x = self.dropout(x)\n",
    "        #LAYEr 1 BLOCK\n",
    "        x = self.fc2(x)\n",
    "        x = self.fc2bnorm(x)\n",
    "        x = F.relu(x)\n",
    "        x = self.dropout(x)\n",
    "        #LAYER 2 BLOCK\n",
    "        x = self.fc3(x)\n",
    "        x = self.fc3bnorm(x)\n",
    "        x = F.relu(x)\n",
    "        x = self.dropout(x)\n",
    "        # OUTPUT BLOCK\n",
    "        return self.fc4(x)\n",
    "    "
   ]
  },
  {
   "cell_type": "code",
   "execution_count": 12,
   "metadata": {},
   "outputs": [],
   "source": [
    "BUFFER_SIZE = int(1e6)  # replay buffer size\n",
    "BATCH_SIZE = 128       # minibatch size\n",
    "GAMMA = 0.99           # discount factor\n",
    "TAU = 1e-3              # for soft update of target parameters\n",
    "LR = 1e-4               # learning rate \n",
    "\n",
    "WeightDecay = 0\n",
    "\n",
    "UPDATE_EVERY = 1      # how often to update the network\n",
    "N_Update_per = 2 # no of updates per time\n",
    "\n",
    "Momentum = 0.9  \n",
    "Epislon = 0.99\n",
    "min_Epislon = 0.001\n",
    "\n",
    "Decay = 0.999\n",
    "MaxBeta = 1\n",
    "MinBeta = 0\n",
    "\n",
    "\n",
    "ALPHA = 0.5\n",
    "ALPHA2 = 1\n",
    "ALPHA_min = 0.01\n",
    "Alphadecay = 0.999 \n",
    "ErrorOffset = 0.01\n",
    "min_beta = 0.3"
   ]
  },
  {
   "cell_type": "code",
   "execution_count": 13,
   "metadata": {},
   "outputs": [
    {
     "name": "stdout",
     "output_type": "stream",
     "text": [
      "Score: -0.03\n"
     ]
    }
   ],
   "source": [
    "action_size = 3\n",
    "score = 0 # initialize the score\n",
    "i = 3\n",
    "while i > 0:\n",
    "    action = np.random.randint(action_size)                 # select an action\n",
    "    observation, reward, done, info = env.step(action)      # send the action to the environment\n",
    "    next_state = observation                                # see if episode has finished\n",
    "    \n",
    "    \n",
    "    score += reward                                         # update the score\n",
    "    state = next_state                                      # roll over the state to next time step\n",
    "    i-=1\n",
    "    if done:                                                # exit loop if episode finished\n",
    "        break\n",
    "    \n",
    "print(\"Score: {}\".format(score))"
   ]
  },
  {
   "cell_type": "code",
   "execution_count": 35,
   "metadata": {},
   "outputs": [
    {
     "ename": "SyntaxError",
     "evalue": "(unicode error) 'unicodeescape' codec can't decode bytes in position 0-9: illegal Unicode character (<ipython-input-35-c1cd349eef27>, line 1)",
     "output_type": "error",
     "traceback": [
      "\u001b[0;36m  File \u001b[0;32m\"<ipython-input-35-c1cd349eef27>\"\u001b[0;36m, line \u001b[0;32m1\u001b[0m\n\u001b[0;31m    print(\"\\U0011F605\")\u001b[0m\n\u001b[0m         ^\u001b[0m\n\u001b[0;31mSyntaxError\u001b[0m\u001b[0;31m:\u001b[0m (unicode error) 'unicodeescape' codec can't decode bytes in position 0-9: illegal Unicode character\n"
     ]
    }
   ],
   "source": [
    "print(\"\\U0001F605\")"
   ]
  },
  {
   "cell_type": "code",
   "execution_count": null,
   "metadata": {},
   "outputs": [],
   "source": [
    "\n"
   ]
  },
  {
   "cell_type": "code",
   "execution_count": 15,
   "metadata": {},
   "outputs": [],
   "source": [
    "import numpy as np\n",
    "import random\n",
    "from collections import namedtuple, deque\n",
    "from queue import PriorityQueue\n",
    "\n",
    "# from model import QNetwork\n",
    "# from model import QNetworkCNN\n",
    "from torch.autograd import Variable\n",
    "\n",
    "import torch\n",
    "import torch.nn.functional as F\n",
    "import torch.optim as optim"
   ]
  },
  {
   "cell_type": "code",
   "execution_count": null,
   "metadata": {},
   "outputs": [],
   "source": []
  },
  {
   "cell_type": "code",
   "execution_count": null,
   "metadata": {},
   "outputs": [],
   "source": []
  },
  {
   "cell_type": "code",
   "execution_count": 16,
   "metadata": {},
   "outputs": [
    {
     "name": "stdout",
     "output_type": "stream",
     "text": [
      "<class 'tuple'>\n"
     ]
    },
    {
     "ename": "NameError",
     "evalue": "name 'Agent' is not defined",
     "output_type": "error",
     "traceback": [
      "\u001b[0;31m---------------------------------------------------------------------------\u001b[0m",
      "\u001b[0;31mNameError\u001b[0m                                 Traceback (most recent call last)",
      "\u001b[0;32m<ipython-input-16-f8c10e3a6307>\u001b[0m in \u001b[0;36m<module>\u001b[0;34m\u001b[0m\n\u001b[1;32m      1\u001b[0m \u001b[0mprint\u001b[0m\u001b[0;34m(\u001b[0m\u001b[0mtype\u001b[0m\u001b[0;34m(\u001b[0m\u001b[0mobservation\u001b[0m\u001b[0;34m)\u001b[0m\u001b[0;34m)\u001b[0m\u001b[0;34m\u001b[0m\u001b[0m\n\u001b[1;32m      2\u001b[0m \u001b[0mstate_Type\u001b[0m \u001b[0;34m=\u001b[0m \u001b[0mtype\u001b[0m\u001b[0;34m(\u001b[0m\u001b[0mobservation\u001b[0m\u001b[0;34m)\u001b[0m\u001b[0;34m\u001b[0m\u001b[0m\n\u001b[0;32m----> 3\u001b[0;31m \u001b[0mtest_agent\u001b[0m\u001b[0;34m=\u001b[0m \u001b[0mAgent\u001b[0m\u001b[0;34m(\u001b[0m\u001b[0mlen\u001b[0m\u001b[0;34m(\u001b[0m\u001b[0mobservation\u001b[0m\u001b[0;34m)\u001b[0m\u001b[0;34m,\u001b[0m \u001b[0;36m3\u001b[0m \u001b[0;34m,\u001b[0m \u001b[0mstate_Type\u001b[0m \u001b[0;34m,\u001b[0m \u001b[0mseed\u001b[0m \u001b[0;34m=\u001b[0m \u001b[0;36m0\u001b[0m \u001b[0;34m,\u001b[0m \u001b[0msignal\u001b[0m \u001b[0;34m=\u001b[0m \u001b[0;34m\"eng\"\u001b[0m\u001b[0;34m)\u001b[0m\u001b[0;34m\u001b[0m\u001b[0m\n\u001b[0m\u001b[1;32m      4\u001b[0m \u001b[0mtest_agent\u001b[0m\u001b[0;34m.\u001b[0m\u001b[0mmemory\u001b[0m\u001b[0;34m.\u001b[0m\u001b[0mbatch_size\u001b[0m \u001b[0;34m=\u001b[0m \u001b[0;36m128\u001b[0m\u001b[0;34m\u001b[0m\u001b[0m\n\u001b[1;32m      5\u001b[0m \u001b[0;32mfor\u001b[0m \u001b[0mi\u001b[0m \u001b[0;32min\u001b[0m \u001b[0mrange\u001b[0m\u001b[0;34m(\u001b[0m\u001b[0;36m800\u001b[0m\u001b[0;34m)\u001b[0m\u001b[0;34m:\u001b[0m\u001b[0;34m\u001b[0m\u001b[0m\n",
      "\u001b[0;31mNameError\u001b[0m: name 'Agent' is not defined"
     ]
    }
   ],
   "source": [
    "print(type(observation))\n",
    "state_Type = type(observation)\n",
    "test_agent= Agent(len(observation), 3 , state_Type , seed = 0 , signal = \"eng\")\n",
    "test_agent.memory.batch_size = 128\n",
    "for i in range(800):\n",
    "    test_agent.step([i,observation[1]], 2, 1, [i+1,observation[1]], False)\n",
    "print(\"test_memory added to the replay buffer\" , len(test_agent.memory.memory), \"batch size\", test_agent.memory.batch_size)\n",
    "print(test_agent.memory.memory[0])\n",
    "test_sample = test_agent.memory.sample_idx_withBatch(10)\n",
    "print(\"sample\",test_sample, \"states\", test_sample[0].size())\n",
    "states = test_sample[0]\n",
    "left_s = states[:,:,0].view(10 ,  -1)\n",
    "right_s = states[:,:,1].view(10 ,  -1)\n",
    "print(left_s.size(), left_s , right_s)\n",
    "# print(\"the sampled memory for learning\", np.shape(test_agent.memory.sample_idx()[0]), test_agent.memory.sample_idx()[1][2])"
   ]
  },
  {
   "cell_type": "code",
   "execution_count": 28,
   "metadata": {},
   "outputs": [
    {
     "ename": "NameError",
     "evalue": "name 'test_agent' is not defined",
     "output_type": "error",
     "traceback": [
      "\u001b[0;31m---------------------------------------------------------------------------\u001b[0m",
      "\u001b[0;31mNameError\u001b[0m                                 Traceback (most recent call last)",
      "\u001b[0;32m<ipython-input-28-3d1db10202e4>\u001b[0m in \u001b[0;36m<module>\u001b[0;34m\u001b[0m\n\u001b[0;32m----> 1\u001b[0;31m \u001b[0ma\u001b[0m  \u001b[0;34m=\u001b[0m \u001b[0mtest_agent\u001b[0m\u001b[0;34m.\u001b[0m\u001b[0mmemory\u001b[0m\u001b[0;34m.\u001b[0m\u001b[0msample_idx\u001b[0m\u001b[0;34m(\u001b[0m\u001b[0mpeek_a_boo\u001b[0m\u001b[0;34m=\u001b[0m \u001b[0;32mTrue\u001b[0m\u001b[0;34m)\u001b[0m\u001b[0;34m\u001b[0m\u001b[0m\n\u001b[0m\u001b[1;32m      2\u001b[0m \u001b[0mprint\u001b[0m\u001b[0;34m(\u001b[0m\u001b[0ma\u001b[0m\u001b[0;34m[\u001b[0m\u001b[0;36m0\u001b[0m\u001b[0;34m]\u001b[0m\u001b[0;34m[\u001b[0m\u001b[0;34m:\u001b[0m\u001b[0;34m,\u001b[0m\u001b[0;36m0\u001b[0m\u001b[0;34m,\u001b[0m\u001b[0;36m0\u001b[0m\u001b[0;34m]\u001b[0m\u001b[0;34m.\u001b[0m\u001b[0mshape\u001b[0m\u001b[0;34m)\u001b[0m\u001b[0;34m\u001b[0m\u001b[0m\n\u001b[1;32m      3\u001b[0m \u001b[0mplt\u001b[0m\u001b[0;34m.\u001b[0m\u001b[0mplot\u001b[0m\u001b[0;34m(\u001b[0m\u001b[0ma\u001b[0m\u001b[0;34m[\u001b[0m\u001b[0;36m0\u001b[0m\u001b[0;34m]\u001b[0m\u001b[0;34m[\u001b[0m\u001b[0;36m0\u001b[0m\u001b[0;34m,\u001b[0m\u001b[0;36m2\u001b[0m\u001b[0;34m,\u001b[0m\u001b[0;36m1\u001b[0m\u001b[0;34m]\u001b[0m\u001b[0;34m.\u001b[0m\u001b[0mcpu\u001b[0m\u001b[0;34m(\u001b[0m\u001b[0;34m)\u001b[0m\u001b[0;34m.\u001b[0m\u001b[0mnumpy\u001b[0m\u001b[0;34m(\u001b[0m\u001b[0;34m)\u001b[0m\u001b[0;34m)\u001b[0m\u001b[0;34m\u001b[0m\u001b[0m\n",
      "\u001b[0;31mNameError\u001b[0m: name 'test_agent' is not defined"
     ]
    }
   ],
   "source": [
    "a  = test_agent.memory.sample_idx(peek_a_boo= True)\n",
    "print(a[0][:,0,0].shape)\n",
    "plt.plot(a[0][0,2,1].cpu().numpy())"
   ]
  },
  {
   "cell_type": "code",
   "execution_count": 29,
   "metadata": {},
   "outputs": [
    {
     "ename": "NameError",
     "evalue": "name 'test_agent' is not defined",
     "output_type": "error",
     "traceback": [
      "\u001b[0;31m---------------------------------------------------------------------------\u001b[0m",
      "\u001b[0;31mNameError\u001b[0m                                 Traceback (most recent call last)",
      "\u001b[0;32m<ipython-input-29-b0aab9432be0>\u001b[0m in \u001b[0;36m<module>\u001b[0;34m\u001b[0m\n\u001b[0;32m----> 1\u001b[0;31m \u001b[0mprint\u001b[0m\u001b[0;34m(\u001b[0m\u001b[0mtype\u001b[0m\u001b[0;34m(\u001b[0m\u001b[0mobservation\u001b[0m\u001b[0;34m[\u001b[0m\u001b[0;36m0\u001b[0m\u001b[0;34m]\u001b[0m\u001b[0;34m)\u001b[0m\u001b[0;34m,\u001b[0m \u001b[0mlen\u001b[0m\u001b[0;34m(\u001b[0m\u001b[0mtest_agent\u001b[0m\u001b[0;34m.\u001b[0m\u001b[0mmemory\u001b[0m\u001b[0;34m.\u001b[0m\u001b[0mmemory\u001b[0m\u001b[0;34m)\u001b[0m\u001b[0;34m,\u001b[0m\u001b[0mobservation\u001b[0m\u001b[0;34m[\u001b[0m\u001b[0;36m0\u001b[0m\u001b[0;34m]\u001b[0m\u001b[0;34m[\u001b[0m\u001b[0;34m:\u001b[0m\u001b[0;36m5000\u001b[0m\u001b[0;34m]\u001b[0m\u001b[0;34m)\u001b[0m\u001b[0;34m\u001b[0m\u001b[0m\n\u001b[0m\u001b[1;32m      2\u001b[0m \u001b[0maction\u001b[0m \u001b[0;34m=\u001b[0m \u001b[0mtest_agent\u001b[0m\u001b[0;34m.\u001b[0m\u001b[0mact\u001b[0m\u001b[0;34m(\u001b[0m\u001b[0;34m[\u001b[0m\u001b[0mobservation\u001b[0m\u001b[0;34m[\u001b[0m\u001b[0;36m0\u001b[0m\u001b[0;34m]\u001b[0m\u001b[0;34m[\u001b[0m\u001b[0;34m:\u001b[0m\u001b[0;36m5000\u001b[0m\u001b[0;34m]\u001b[0m\u001b[0;34m,\u001b[0m\u001b[0mobservation\u001b[0m\u001b[0;34m[\u001b[0m\u001b[0;36m1\u001b[0m\u001b[0;34m]\u001b[0m\u001b[0;34m[\u001b[0m\u001b[0;34m:\u001b[0m\u001b[0;36m5000\u001b[0m\u001b[0;34m]\u001b[0m\u001b[0;34m]\u001b[0m\u001b[0;34m)\u001b[0m\u001b[0;34m\u001b[0m\u001b[0m\n\u001b[1;32m      3\u001b[0m \u001b[0mprint\u001b[0m\u001b[0;34m(\u001b[0m\u001b[0;34m\"the test agent action selection is passed\"\u001b[0m\u001b[0;34m,\u001b[0m \u001b[0maction\u001b[0m\u001b[0;34m)\u001b[0m\u001b[0;34m\u001b[0m\u001b[0m\n",
      "\u001b[0;31mNameError\u001b[0m: name 'test_agent' is not defined"
     ]
    }
   ],
   "source": [
    "print(type(observation[0]), len(test_agent.memory.memory),observation[0][:5000])\n",
    "action = test_agent.act([observation[0][:5000],observation[1][:5000]])\n",
    "print(\"the test agent action selection is passed\", action)"
   ]
  },
  {
   "cell_type": "code",
   "execution_count": 17,
   "metadata": {},
   "outputs": [],
   "source": [
    "\n",
    "class ReplayBuffer:\n",
    "    \"\"\"Fixed-size buffer to store experience tuples. \n",
    "    Also can be used to store the priortized tuples\"\"\"\n",
    "\n",
    "    def __init__(self, action_size, buffer_size, batch_size, seed):\n",
    "        \"\"\"Initialize a ReplayBuffer object.\n",
    "\n",
    "        Params\n",
    "        ======\n",
    "            action_size (int): dimension of each action\n",
    "            buffer_size (int): maximum size of buffer\n",
    "            batch_size (int): size of each training batch\n",
    "            Priority(float):\n",
    "            seed (int): random seed\n",
    "        \"\"\"\n",
    "        self.action_size = action_size\n",
    "        self.memory = deque(maxlen=buffer_size)  \n",
    "        self.batch_size = batch_size\n",
    "        self.experience = namedtuple(\"Experience\", field_names=[\"state\", \"action\", \"reward\", \"next_state\", \"done\"])\n",
    "        self.seed = random.seed(seed)\n",
    "        self.selectedIdx = np.array([])\n",
    "    \n",
    "    def add(self, state, action, reward, next_state, done):\n",
    "        \"\"\"Add a new experience to memory.\"\"\"\n",
    "        e = self.experience(state, action, reward, next_state, done)\n",
    "        self.memory.append(e)\n",
    "    \n",
    "    def sample(self):\n",
    "        \"\"\"Randomly sample a batch of experiences from memory.\"\"\"\n",
    "        experiences = random.sample(self.memory, k=self.batch_size)\n",
    "        #print(experiences[0])\n",
    "        states = torch.from_numpy(np.stack([e.state for e in experiences if e is not None] , axis =0 )).float().to(device)\n",
    "        actions = torch.from_numpy(np.vstack([e.action for e in experiences if e is not None])).long().to(device)\n",
    "        rewards = torch.from_numpy(np.vstack([e.reward for e in experiences if e is not None])).float().to(device)\n",
    "        next_states = torch.from_numpy(np.stack([e.next_state for e in experiences if e is not None], axis =0)).float().to(device)\n",
    "        dones = torch.from_numpy(np.vstack([e.done for e in experiences if e is not None]).astype(np.uint8)).float().to(device)\n",
    "  \n",
    "        return (states, actions, rewards, next_states, dones)\n",
    "    def sample_idx(self , peek_a_boo = False):\n",
    "        if peek_a_boo == True:\n",
    "            batch_size = 1\n",
    "        else:\n",
    "            batch_size = self.batch_size\n",
    "        index_value = random.sample(list(enumerate(self.memory)), k= batch_size)\n",
    "        #print(\"batch\", self.batch_size)\n",
    "        states = torch.from_numpy(np.stack([[self.memory[e[0]-2].state,self.memory[e[0]-1].state ,e[1].state] for e in index_value if e is not None and e[1].done != True and self.memory[e[0]-1].done != True and e[0]-1 > 0 and e[0] < len(self.memory)-1] , axis = 0 )).float().to(device)\n",
    "        actions = torch.from_numpy(np.vstack([e[1].action for e in index_value if e is not None and e[1].done != True and self.memory[e[0]-1].done != True and e[0]-1 > 0 and e[0] < len(self.memory)-1])).long().to(device)\n",
    "        rewards = torch.from_numpy(np.vstack([e[1].reward for e in index_value if e is not None and e[1].done != True and self.memory[e[0]-1].done != True and e[0]-1 > 0 and e[0] < len(self.memory)-1])).float().to(device)\n",
    "        next_states = torch.from_numpy(np.stack([[self.memory[e[0]-2].next_state, self.memory[e[0]-1].next_state ,e[1].next_state] for e in index_value if e is not None and e[1].done != True and self.memory[e[0]-1].done != True and e[0]-1 > 0 and e[0] < len(self.memory)-1] , axis = 0 )).float().to(device)\n",
    "        dones = torch.from_numpy(np.vstack([e[1].done for e in index_value if e is not None and e[1].done != True and self.memory[e[0]-1].done != True and e[0]-1 > 0 and e[0] < len(self.memory)-1]).astype(np.uint8)).float().to(device)\n",
    "        \n",
    "        return (states, actions, rewards, next_states, dones)\n",
    "    \n",
    "    def sample_idx_withBatch(self , batch_size , peek_a_boo = False):\n",
    "        \n",
    "        if peek_a_boo == True:\n",
    "            batch_size = 1\n",
    "        index_value = random.sample(list(enumerate(self.memory)), k=batch_size)\n",
    "        states = torch.from_numpy(np.stack([[self.memory[e[0]-2].state,self.memory[e[0]-1].state ,e[1].state] for e in index_value if e is not None and e[1].done != True and self.memory[e[0]-1].done != True] , axis = 0 )).float().to(device)\n",
    "        actions = torch.from_numpy(np.vstack([e[1].action for e in index_value if e is not None and e[1].done != True and self.memory[e[0]-1].done != True])).long().to(device)\n",
    "        rewards = torch.from_numpy(np.vstack([e[1].reward for e in index_value if e is not None and e[1].done != True and self.memory[e[0]-1].done != True])).float().to(device)\n",
    "        next_states = torch.from_numpy(np.stack([[self.memory[e[0]-2].next_state,self.memory[e[0]-1].next_state ,e[1].next_state] for e in index_value if e is not None and e[1].done != True and self.memory[e[0]-1].done != True] , axis = 0 )).float().to(device)\n",
    "        dones = torch.from_numpy(np.vstack([e[1].done for e in index_value if e is not None and e[1].done != True and self.memory[e[0]-1].done != True]).astype(np.uint8)).float().to(device)\n",
    "        \n",
    "        return (states, actions, rewards, next_states, dones)\n",
    "    \n",
    "    \n",
    "    \n",
    "        \n",
    "\n",
    "\n",
    "\n",
    "    def __len__(self):\n",
    "        \"\"\"Return the current size of internal memory.\"\"\"\n",
    "        return len(self.memory)\n",
    "    \n",
    "class PriorityReplayBuffer:\n",
    "    \"\"\"Fixed-size buffer to store experience tuples. \n",
    "    Also can be used to store the priortized tuples\"\"\"\n",
    "\n",
    "    def __init__(self, action_size, buffer_size, batch_size, alpha, state_type ,  seed):\n",
    "        \"\"\"Initialize a ReplayBuffer object.\n",
    "\n",
    "        Params\n",
    "        ======\n",
    "            action_size (int): dimension of each action\n",
    "            buffer_size (int): maximum size of buffer\n",
    "            batch_size (int): size of each training batch\n",
    "            Priority(float):\n",
    "            seed (int): random seed\n",
    "        \"\"\"\n",
    "        self.action_size = action_size\n",
    "        self.Prioritymemory = deque(maxlen=buffer_size) \n",
    "        self.batch_size = batch_size\n",
    "        self.expType = [('state',state_type), ('action','float'),('reward','float'), ('next_state',state_type),('done','bool'),('Priority','float')]\n",
    "        self.experienceMemory = np.array([], dtype = self.expType)\n",
    "        self.seed = random.seed(seed)\n",
    "        self.max_size = buffer_size\n",
    "        self.alpha = alpha\n",
    "        \n",
    "    \n",
    "    def add(self, state, action, reward, next_state, done, Priority):\n",
    "        \"\"\"Add a new experience to memory.\"\"\"\n",
    "        if(np.size(self.experienceMemory) > self.max_size):\n",
    "            self.experienceMemory = np.delete(self.experienceMemory , 0 )\n",
    "        e = (state, action, reward, next_state, done, Priority)\n",
    "        exp = np.array([e] , dtype = self.expType)\n",
    "        self.experienceMemory = np.append(self.experienceMemory , exp )\n",
    "        #print(\"memory\", np.shape(self.experienceMemory['state'][0]))\n",
    "        #self.memory.append(e)\n",
    "    \n",
    "    def sample(self , alpha , beta):\n",
    "        \"\"\" sample a batch of experiences from memory. based on the Priority\"\"\"\n",
    "        # write ur own implementation\n",
    "        self.alpha = alpha\n",
    "        self.beta = beta\n",
    "        if(self.beta < min_beta):\n",
    "            self.beta = min_beta\n",
    "        probs ,Choosenindex = self.Batchsample()\n",
    "        self.selectedIdx = Choosenindex\n",
    "        weights = (np.size(self.experienceMemory)* probs)**(-(self.beta))\n",
    "        weights /= np.max(weights)\n",
    "        weights = Variable(torch.from_numpy(np.vstack(weights)).float().to(device))\n",
    "        states = Variable(torch.from_numpy(np.stack(self.experienceMemory['state'][Choosenindex] , axis =0)).float().to(device))\n",
    "        #print(\"at sampling\",states.size())\n",
    "        actions = Variable(torch.from_numpy(np.vstack(self.experienceMemory['action'][Choosenindex])).long().to(device))\n",
    "        rewards = Variable(torch.from_numpy(np.vstack(self.experienceMemory['reward'][Choosenindex])).float().to(device))\n",
    "        next_states = Variable(torch.from_numpy(np.stack(self.experienceMemory['next_state'][Choosenindex] , axis =0)).float().to(device))\n",
    "        dones = Variable(torch.from_numpy(np.vstack(self.experienceMemory['done'][Choosenindex]).astype(np.uint8)).float().to(device))\n",
    "        \n",
    "        \n",
    "  \n",
    "        return (states, actions, rewards, next_states, dones , weights)\n",
    "    \n",
    "    def Batchsample(self):\n",
    "        \"\"\"Samples the batch here \"\"\"\n",
    "        all_priorities = self.experienceMemory['Priority']\n",
    "        probs = self.GetProbs(all_priorities)\n",
    "        indeArr = np.arange(len(probs))\n",
    "        Choosenindex = np.random.choice(indeArr, self.batch_size,p=probs, replace = False)\n",
    "        return probs[Choosenindex] , Choosenindex\n",
    "    \n",
    "    def GetProbs(self, Pri):\n",
    "        \"\"\" Probabilities are defiend here\"\"\"\n",
    "        Numerator = np.power(Pri, self.alpha)\n",
    "        Demoninator = np.sum(Numerator)\n",
    "        Probs = Numerator / Demoninator\n",
    "        return Probs\n",
    "    \n",
    "    def updatePriorities(self,Error):\n",
    "        #print(self.selectedIdx , Error , np.size(Error) , np.size(self.selectedIdx))\n",
    "        self.experienceMemory['Priority'][self.selectedIdx] = Error.flatten()\n",
    "                                    \n",
    "    def __len__(self):\n",
    "        \"\"\"Return the current size of internal memory.\"\"\"\n",
    "        return len(self.experienceMemory)\n",
    "\n",
    "def handling_echo_bug(echo , size = 5000):\n",
    "    state = np.zeros(5000)\n",
    "    state[:len(echo)] = echo\n",
    "    return state"
   ]
  },
  {
   "cell_type": "code",
   "execution_count": 40,
   "metadata": {},
   "outputs": [
    {
     "name": "stdout",
     "output_type": "stream",
     "text": [
      "Device which is used is  cuda:0\n"
     ]
    }
   ],
   "source": [
    "device = torch.device(\"cuda:0\" if torch.cuda.is_available() else \"cpu\")\n",
    "# in case of cuda errors\n",
    "# device =  \"cpu\"\n",
    "print(\"Device which is used is \" , device)\n",
    "\n",
    "class Agent():\n",
    "    \"\"\"Interacts with and learns from the environment.\"\"\"\n",
    "\n",
    "    def __init__(self, state_size, action_size, state_type,seed,signal = \"echo\", augment_states_T=3 ):\n",
    "        \"\"\"Initialize an Agent object.\n",
    "        \n",
    "        Params\n",
    "        ======\n",
    "            state_size (int): dimension of each state\n",
    "            action_size (int): dimension of each action\n",
    "            seed (int): random seed\n",
    "            Beta is for sacling down the weights update due to the Priority Queues\n",
    "        \"\"\"\n",
    "        self.state_size = state_size\n",
    "        self.action_size = action_size\n",
    "        self.seed = random.seed(seed)\n",
    "        self.Beta = 1\n",
    "        self.Gamma = GAMMA\n",
    "        self.augment_time =  augment_states_T\n",
    "\n",
    "        # Q-Network\n",
    "        if(signal == \"echo\"):\n",
    "            self.qnetwork_local = QNetworkCNN_1D_BATBOT(state_size, action_size, seed , augment_frames =  augment_states_T).to(device)\n",
    "            self.qnetwork_target = QNetworkCNN_1D_BATBOT(state_size, action_size, seed , augment_frames =  augment_states_T).to(device)\n",
    "        else:\n",
    "            print_slow(\"AI: \", delay =0)\n",
    "            print_slow(\"Wtf! r u doing \\U0001F620 I am dying here... \\n\")\n",
    "            print_slow(\"ME: \", delay =0)\n",
    "            print_slow(\"Sorry \\U0001F605 zoned out little .. was watching some lame anime.. \\U0001F62C \\n\")\n",
    "            print_slow(\"AI: \", delay =0)\n",
    "            print_slow(\"Adai Venna !!!.... mudidu vellaiya paru... \\n\")\n",
    "            print_slow(\"ME: \", delay =0)\n",
    "            print_slow(\"Seringa.. \\U0001F62C \\n\")\n",
    "            time.sleep(1)\n",
    "            self.qnetwork_local = QNetworkANN_BATBOT(state_size, action_size, seed , augment_frames =  augment_states_T).to(device)\n",
    "            self.qnetwork_target = QNetworkANN_BATBOT(state_size, action_size, seed , augment_frames =  augment_states_T).to(device)\n",
    "            \n",
    "            \n",
    "        print(\"the model is defined successfully\", self.qnetwork_target)\n",
    "        self.optimizer = optim.Adam(self.qnetwork_local.parameters(), lr=LR , weight_decay= WeightDecay)\n",
    "        self.state_type = state_type\n",
    "        # Replay memory\n",
    "        #self.memory = PriorityReplayBuffer(action_size, BUFFER_SIZE, BATCH_SIZE,ALPHA,state_type, seed)\n",
    "        self.memory = ReplayBuffer(action_size, BUFFER_SIZE, BATCH_SIZE, seed)\n",
    "        # Initialize time step (for updating every UPDATE_EVERY steps)\n",
    "        self.t_step = 0\n",
    "        \n",
    "    \n",
    "    def step(self, state, action, reward, next_state, done):\n",
    "        # Save experience in replay memory\n",
    "        #Priority = self.getError(state, action, reward, next_state,done)\n",
    "        #self.memory.add(state, action, reward, next_state, done,Priority)\n",
    "        #self, state, action, reward, next_state, done\n",
    "        self.memory.add(state, action, reward, next_state,done)\n",
    "        global Epislon\n",
    "        Epislon *= Decay\n",
    "        if(Epislon < min_Epislon):\n",
    "            Epislon = min_Epislon\n",
    "        beta = 1 - Epislon\n",
    "        #print(beta)\n",
    "        # alpha value for priority buffer\n",
    "        global ALPHA2\n",
    "        ALPHA2 *= Alphadecay\n",
    "        if(ALPHA2 < ALPHA_min):\n",
    "            ALPHA2 = ALPHA_min\n",
    "        \n",
    "        # Learn every UPDATE_EVERY time steps.\n",
    "        self.t_step = (self.t_step + 1) % UPDATE_EVERY\n",
    "        if self.t_step == 0:\n",
    "            # If enough samples are available in memory, get random subset and learn\n",
    "            if len(self.memory) > BATCH_SIZE*3:\n",
    "                #uncomment this for priority buffer\n",
    "                #experiences = self.memory.sample(ALPHA2,beta)\n",
    "                for _ in range(N_Update_per):\n",
    "                    experiences = self.memory.sample_idx()\n",
    "                    self.learn(experiences, GAMMA)\n",
    "\n",
    "    def act(self, state, eps=0.):\n",
    "        \"\"\"Returns actions for given state as per current policy.\n",
    "        \n",
    "        Params\n",
    "        ======\n",
    "            state (array_like): current state\n",
    "            eps (float): epsilon, for epsilon-greedy action selection\n",
    "        \"\"\"\n",
    "        \n",
    "        #state = torch.from_numpy(state).float().unsqueeze(0).to(device)\n",
    "        # if e is not None and e[1].done != True and \n",
    "        # self.memory[e[0]-1].done != True and e[0]-1 > 0 and e[0] < len(agent.memory.memory)-1])\n",
    "        if (len(self.memory.memory) >= 2 and (self.memory.memory[-1].done or self.memory.memory[-2].done) == False):\n",
    "            #print(np.dtype(state), np.size(state))\n",
    "            #print(len(self.memory.memory), [self.memory.memory[-2].state[0],self.memory.memory[-1].state[0],state])\n",
    "            left_state = torch.from_numpy(np.array([self.memory.memory[-2].state[0],self.memory.memory[-1].state[0],state[0]]).astype(np.float32)).float().view(1,self.augment_time,-1).to(device)\n",
    "            \n",
    "            right_state = torch.from_numpy(np.array([self.memory.memory[-2].state[1],self.memory.memory[-1].state[1],state[1]])).float().view(1,self.augment_time,-1).to(device)\n",
    "            #print(state.size())\n",
    "            self.qnetwork_local.eval()\n",
    "            #print(np.size(state))\n",
    "            with torch.no_grad():\n",
    "                action_values = self.qnetwork_local(left_state, right_state)\n",
    "            #print(action_values)\n",
    "            self.qnetwork_local.train()\n",
    "            #for debuging\n",
    "            #check =    random.choice(np.arange(self.action_size))\n",
    "            #check2 = np.argmax(action_values.cpu().data.numpy())\n",
    "            #print(check.dtype , check2.dtype)\n",
    "            # Epsilon-greedy action selection\n",
    "            if random.random() > eps:\n",
    "                return np.argmax(action_values.cpu().data.numpy())\n",
    "            else:\n",
    "                return random.choice(np.arange(self.action_size))\n",
    "        else:\n",
    "            return random.choice(np.arange(self.action_size))\n",
    "            \n",
    "                   \n",
    "\n",
    "    def learn(self, experiences, gamma):\n",
    "        \"\"\"Update value parameters using given batch of experience tuples.\n",
    "\n",
    "        Params\n",
    "        ======\n",
    "            experiences (Tuple[torch.Variable]): tuple of (s, a, r, s', done) tuples \n",
    "            gamma (float): discount factor\n",
    "        \"\"\"\n",
    "        \n",
    "        # uncomment this line if u wanna use priority Buffer\n",
    "        #states, actions, rewards, next_states, dones, weights = experiences\n",
    "        states, actions, rewards, next_states, dones = experiences\n",
    "        #print(states.size())\n",
    "        size_now = states.size()\n",
    "        #print(\"size_now\",size_now[0], states[:,:,0,:].size(),self.augment_time)\n",
    "        #  To Do .. code needs change Data set differs\n",
    "        # last one needs to be the length of the echo\n",
    "        left_states = states[:,:,0].view(size_now[0] ,  -1)\n",
    "        right_states = states[:,:,1].view(size_now[0] ,  -1)\n",
    "        left_next_states = next_states[:,:,0].view(size_now[0] ,  -1)\n",
    "        right_next_states = next_states[:,:,1].view(size_now[0] ,  -1)\n",
    "        # Get max predicted Q values (for next states) from target model\n",
    "        #getting the maximum action from the Q table and applying it in the \n",
    "        #print(\"states size\" , next_states.size())\n",
    "        #------this for DDQN ---- uncomment this for DDQN-------------------------\n",
    "        Q_targets_next_action = self.qnetwork_local(left_next_states , right_next_states).detach().argmax(1).unsqueeze(1)\n",
    "        #print(Q_targets_next_action)\n",
    "        Q_targets_next = self.qnetwork_target(left_next_states , right_next_states).gather(1 , Q_targets_next_action)\n",
    "        Q_targets_next = Q_targets_next.detach()\n",
    "        # Compute Q targets for current states \n",
    "        # Compute Q targets for current states \n",
    "        #print(Q_targets_next.size())\n",
    "        Q_targets = rewards + (gamma * Q_targets_next * (1 - dones))\n",
    "#         print(actions)\n",
    "        # Get expected Q values from local model\n",
    "        Q_expected = self.qnetwork_local(left_states, right_states).gather(1, actions)\n",
    "        #print(\"expected\", Q_expected.size())\n",
    "        #print(\"expected\" , Q_expected , Q_targets)\n",
    "        # Compute loss\n",
    "        loss = F.mse_loss(Q_expected, Q_targets)\n",
    "        # change reduce to False for priority buffer\n",
    "        \n",
    "        #loss = F.smooth_l1_loss(Q_expected, Q_targets)\n",
    "        #print(loss.size())\n",
    "        \n",
    "        # this removed due to the swtching to normal replay buffer\n",
    "        #loss = loss * (weights).detach()\n",
    "        #loss = torch.mean(loss)\n",
    "        #loss has to be scaled scaled down by weights = (1 /(N*p(i)))^Beta\n",
    "        #loss = F.l1_loss(Q_expected , Q_targets)\n",
    "        \n",
    "        #print(\"The Loss\", loss)\n",
    "        # Minimize the loss\n",
    "        \n",
    "        self.optimizer.zero_grad()\n",
    "        loss.backward()\n",
    "        self.optimizer.step()\n",
    "        \n",
    "        \n",
    "        \n",
    "\n",
    "        # ------------------- update target network ------------------- #\n",
    "        self.soft_update(self.qnetwork_local, self.qnetwork_target, TAU)\n",
    "        \n",
    "#         ##-- for updating the priorities in the experience replay buffer------###\n",
    "#         with torch.no_grad():\n",
    "#             Q_targets_next_action = self.qnetwork_local(next_states).detach().max(1)[1].unsqueeze(1)\n",
    "#             #print(Q_targets_next_action)\n",
    "#             Q_targets_next = self.qnetwork_target(next_states).gather(1 , Q_targets_next_action)\n",
    "#             Q_targets_next = Q_targets_next.detach()\n",
    "#             # Compute Q targets for current states \n",
    "#             Q_targets = rewards + (gamma * Q_targets_next * (1 - dones)).detach()\n",
    "\n",
    "#             # Get expected Q values from local model\n",
    "#             Q_expected = self.qnetwork_local(states).gather(1, actions).detach()\n",
    "\n",
    "#             errors = torch.abs(Q_expected - Q_targets).cpu().data.numpy()\n",
    "#             self.memory.updatePriorities(errors)\n",
    "        \n",
    "        \n",
    "        \n",
    "    def ConvnumpyTotorch(self,states, actions, rewards, next_states, dones):\n",
    "        # converts the numpy to tensor variables\n",
    "        states = torch.from_numpy(np.array([states])).float().to(device)\n",
    "        actions = torch.from_numpy(np.array([[actions]])).long().to(device)\n",
    "        rewards = torch.from_numpy(np.array([rewards])).float().to(device)\n",
    "        next_states = torch.from_numpy(np.array([next_states])).float().to(device)\n",
    "        dones = torch.from_numpy(np.array([dones]).astype(np.uint8)).float().to(device)\n",
    "        return states, actions, rewards, next_states, dones\n",
    "        \n",
    "    def getError(self,states, actions, rewards, next_states, dones):\n",
    "        \n",
    "        with torch.no_grad():\n",
    "            #print(\"states\" , states.shape , next_states.shape)\n",
    "            states, actions, rewards, next_states, dones = self.ConvnumpyTotorch(states, actions, rewards, next_states, dones)\n",
    "            #print(\"states\",states , next_states)\n",
    "            Q_targets_next_action = self.qnetwork_local(next_states).detach().max(1)[1].unsqueeze(1)\n",
    "            #print(\"actions\",Q_targets_next_action , actions)\n",
    "            #print(next_states.shape)\n",
    "            Q_targets_next = self.qnetwork_target(next_states).gather(1 , Q_targets_next_action)\n",
    "            Q_targets_next = Q_targets_next.detach()\n",
    "            # Compute Q targets for current states \n",
    "            Q_targets = rewards + (GAMMA * Q_targets_next * (1 - dones))\n",
    "\n",
    "            # Get expected Q values from local model\n",
    "\n",
    "            Q_expected = self.qnetwork_local(states).gather(1, actions)\n",
    "            Q_expected = Q_expected.detach()\n",
    "            #error =  F.l1_loss(Q_expected , Q_targets)\n",
    "            error =  torch.abs(Q_expected - Q_targets).cpu().data.numpy()\n",
    "        return (error.item() + ErrorOffset)\n",
    "    \n",
    "    def soft_update(self, local_model, target_model, tau):\n",
    "        \"\"\"Soft update model parameters.\n",
    "        θ_target = τ*θ_local + (1 - τ)*θ_target\n",
    "\n",
    "        Params\n",
    "        ======\n",
    "            local_model (PyTorch model): weights will be copied from\n",
    "            target_model (PyTorch model): weights will be copied to\n",
    "            tau (float): interpolation parameter \n",
    "        \"\"\"\n",
    "        for target_param, local_param in zip(target_model.parameters(), local_model.parameters()):\n",
    "            target_param.data.copy_(tau*local_param.data + (1.0-tau)*target_param.data)\n",
    "\n"
   ]
  },
  {
   "cell_type": "code",
   "execution_count": 19,
   "metadata": {},
   "outputs": [],
   "source": [
    "# test_obs , echo_time  = env.get_observationEnv() \n",
    "# print(len(test_obs))"
   ]
  },
  {
   "cell_type": "code",
   "execution_count": null,
   "metadata": {},
   "outputs": [],
   "source": []
  },
  {
   "cell_type": "code",
   "execution_count": 43,
   "metadata": {},
   "outputs": [
    {
     "name": "stdout",
     "output_type": "stream",
     "text": [
      "AI: Wtf! r u doing 😠 I am dying here... \n",
      "ME: Sorry 😅 zoned out little .. was watching some lame anime.. 😬 \n",
      "AI: Adai Venna !!!.... mudidu vellaiya paru... \n",
      "ME: Seringa.. 😬 \n",
      "the model is defined successfully QNetworkANN_BATBOT(\n",
      "  (fc1): Linear(in_features=6, out_features=64, bias=True)\n",
      "  (fc1bnorm): BatchNorm1d(64, eps=1e-05, momentum=0.1, affine=True, track_running_stats=True)\n",
      "  (fc2): Linear(in_features=64, out_features=64, bias=True)\n",
      "  (fc2bnorm): BatchNorm1d(64, eps=1e-05, momentum=0.1, affine=True, track_running_stats=True)\n",
      "  (fc3): Linear(in_features=64, out_features=64, bias=True)\n",
      "  (fc3bnorm): BatchNorm1d(64, eps=1e-05, momentum=0.1, affine=True, track_running_stats=True)\n",
      "  (fc4): Linear(in_features=64, out_features=3, bias=True)\n",
      "  (dropout): Dropout(p=0.3, inplace=False)\n",
      ")\n"
     ]
    }
   ],
   "source": [
    "agent = Agent(len(observation), 3 , state_Type , seed = 0 , signal = \"eng\")"
   ]
  },
  {
   "cell_type": "code",
   "execution_count": 47,
   "metadata": {},
   "outputs": [
    {
     "data": {
      "text/plain": [
       "(2.695905855949094, 24.83470030649718)"
      ]
     },
     "execution_count": 47,
     "metadata": {},
     "output_type": "execute_result"
    }
   ],
   "source": [
    "env.reset()"
   ]
  },
  {
   "cell_type": "code",
   "execution_count": 48,
   "metadata": {},
   "outputs": [],
   "source": [
    "saving_episode = 105 \n",
    "next_saving = 50\n",
    "saving_score = 1.5\n",
    "next_saving_score = 1\n",
    "norm_max = 40"
   ]
  },
  {
   "cell_type": "code",
   "execution_count": null,
   "metadata": {},
   "outputs": [
    {
     "name": "stdout",
     "output_type": "stream",
     "text": [
      "Episode 1\tAverage Score: -2.41Maxi 294\n",
      "Episode 2\tAverage Score: -2.42Maxi 299\n",
      "Episode 3\tAverage Score: -2.61Maxi 299\n",
      "Episode 4\tAverage Score: -2.67Maxi 299\n",
      "Episode 5\tAverage Score: -2.60Maxi 299\n",
      "Episode 6\tAverage Score: -2.65Maxi 299\n",
      "Episode 7\tAverage Score: -2.64Maxi 299\n",
      "Episode 8\tAverage Score: -2.66Maxi 299\n",
      "Episode 9\tAverage Score: -2.67Maxi 299\n",
      "Episode 10\tAverage Score: -2.62Maxi 299\n",
      "Episode 10\tAverage Score: -2.62\n"
     ]
    },
    {
     "data": {
      "image/png": "[encoded data removed]",
      "text/plain": [
       "<Figure size 432x288 with 1 Axes>"
      ]
     },
     "metadata": {
      "needs_background": "light"
     },
     "output_type": "display_data"
    },
    {
     "name": "stdout",
     "output_type": "stream",
     "text": [
      "Episode 11\tAverage Score: -2.65Maxi 299\n",
      "Episode 12\tAverage Score: -2.60Maxi 299\n",
      "Episode 13\tAverage Score: -2.58Maxi 299\n",
      "Episode 14\tAverage Score: -2.55Maxi 299\n",
      "Episode 15\tAverage Score: -2.56Maxi 299\n",
      "Episode 16\tAverage Score: -2.59Maxi 299\n",
      "Episode 17\tAverage Score: -2.61Maxi 299\n",
      "Episode 18\tAverage Score: -2.63Maxi 299\n",
      "Episode 19\tAverage Score: -2.63Maxi 299\n",
      "Episode 20\tAverage Score: -2.64Maxi 299\n",
      "Episode 20\tAverage Score: -2.64\n"
     ]
    },
    {
     "data": {
      "image/png": "[encoded data removed]",
      "text/plain": [
       "<Figure size 432x288 with 1 Axes>"
      ]
     },
     "metadata": {
      "needs_background": "light"
     },
     "output_type": "display_data"
    }
   ],
   "source": [
    "# have to modify this according to the Gazebo sim\n",
    "# did that\n",
    "def dqn(n_episodes=3000, max_t=10000, eps_start=1.0, eps_end=0.01, eps_decay=0.999):\n",
    "    \"\"\"Deep Q-Learning.\n",
    "    \n",
    "    Params\n",
    "    ======\n",
    "        n_episodes (int): maximum number of training episodes\n",
    "        max_t (int): maximum number of timesteps per episode\n",
    "        eps_start (float): starting value of epsilon, for epsilon-greedy action selection\n",
    "        eps_end (float): minimum value of epsilon\n",
    "        eps_decay (float): multiplicative factor (per episode) for decreasing epsilon\n",
    "    \"\"\"\n",
    "    scores = []                        # list containing scores from each episode\n",
    "    avg_scores = []\n",
    "    scores_window = deque(maxlen=100)  # last 100 scores\n",
    "    eps = eps_start# initialize epsilon\n",
    "    Max_t = 0\n",
    "    \n",
    "    for i_episode in range(1, n_episodes+1):\n",
    "        global saving_score\n",
    "        global saving_episode\n",
    "        if np.mean(scores_window)>= saving_score or (i_episode % saving_episode == 0 and i_episode != 0):\n",
    "            print('\\nEnvironment solved in {:d} episodes!\\tAverage Score: {:.2f}'.format(i_episode-100, np.mean(scores_window)))\n",
    "            torch.save(agent.qnetwork_local.state_dict(), 'checkpoint_agent_at_'+str(i_episode)+'.pth')\n",
    "            saving_episode += next_saving\n",
    "            if np.mean(scores_window)>= saving_score:\n",
    "                saving_score += next_saving_score\n",
    "            if np.mean(scores_window)>=160.0:\n",
    "                break\n",
    "        \n",
    "        \n",
    "        \n",
    "        state = env.reset()\n",
    "#         # just using the first 5000 values of the echo sequence\n",
    "#         if len(observation[0]) >= 5000:\n",
    "#             state = [observation[0][:5000]/norm_max, observation[1][:5000]/norm_max]\n",
    "#         else :\n",
    "#             state = [handling_echo_bug(observation[0])/norm_max, handling_echo_bug(observation[1])/norm_max]\n",
    "       \n",
    "        score = 0\n",
    "        #print(\"hello\")\n",
    "        for t in range(max_t):\n",
    "            #print(\"state\",state[0].shape)\n",
    "            action = agent.act(state, eps)\n",
    "            #print(action.dtype)\n",
    "            action = np.int32(action)\n",
    "            next_state, reward, done, info = env.step(action)\n",
    "            #assert(len(next_observation[0])> 5000), \"wtf fuck is going on \"+str(next_observation[0].shape)\n",
    "#             if len(next_observation[0]) >= 5000:\n",
    "#                 next_state = [next_observation[0][:5000]/norm_max , next_observation[1][:5000]/norm_max]\n",
    "#             else :\n",
    "#                 next_state = [handling_echo_bug(next_observation[0])/norm_max, handling_echo_bug(next_observation[1])/norm_max]\n",
    "            #print(\"next_state\",next_state[0].shape, len(next_observation), next_observation[0].shape )\n",
    "            #next_state = np.resize(extract_luminance_state(env_info.visual_observations[0], peek = True) , (1,84,84))\n",
    "            #print(next_state.shape)\n",
    "            agent.step(state, action, reward, next_state, done)\n",
    "            #print(state, action, reward, next_state, done)\n",
    "            state = next_state\n",
    "            score += reward\n",
    "            if done:\n",
    "                Max_t = t\n",
    "                break \n",
    "        scores_window.append(score)       # save most recent score\n",
    "        scores.append(score)              # save most recent score\n",
    "        eps = max(eps_end, eps_decay*eps) # decrease epsilon\n",
    "        print('\\rEpisode {}\\tAverage Score: {:.2f}'.format(i_episode, np.mean(scores_window)), end=\"\")\n",
    "        print(\"Maxi\" ,Max_t)\n",
    "        if i_episode % 10 == 0:\n",
    "            print('\\rEpisode {}\\tAverage Score: {:.2f}'.format(i_episode, np.mean(scores_window)))\n",
    "            fig = plt.figure()\n",
    "            ax = fig.add_subplot(111)\n",
    "            avg_scores.append(np.mean(scores_window))\n",
    "            plt.plot(np.arange(len(scores)), scores)\n",
    "            plt.ylabel('Score')\n",
    "            plt.xlabel('Episode #')\n",
    "            plt.show()\n",
    "            \n",
    "        if i_episode % 100 == 0 and i_episode != 0:\n",
    "            print('\\rEpisode {}\\tAverage Score: {:.2f}'.format(i_episode, np.mean(scores_window)))\n",
    "            fig = plt.figure()\n",
    "            ax = fig.add_subplot(111)\n",
    "            plt.plot(np.arange(len(avg_scores)), avg_scores)\n",
    "            plt.ylabel('Score')\n",
    "            plt.xlabel('Episode #')\n",
    "            plt.show()\n",
    "        \n",
    "    return scores\n",
    "\n",
    "scores = dqn()\n",
    "\n",
    "# plot the scores\n",
    "fig = plt.figure()\n",
    "ax = fig.add_subplot(111)\n",
    "plt.plot(np.arange(len(scores)), scores)\n",
    "plt.ylabel('Score')\n",
    "plt.xlabel('Episode #')\n",
    "plt.show()\n"
   ]
  },
  {
   "cell_type": "code",
   "execution_count": null,
   "metadata": {},
   "outputs": [],
   "source": [
    "print(saving_score)"
   ]
  },
  {
   "cell_type": "code",
   "execution_count": null,
   "metadata": {},
   "outputs": [],
   "source": []
  },
  {
   "cell_type": "code",
   "execution_count": 147,
   "metadata": {},
   "outputs": [],
   "source": [
    "env._close()"
   ]
  },
  {
   "cell_type": "code",
   "execution_count": null,
   "metadata": {},
   "outputs": [],
   "source": []
  }
 ],
 "metadata": {
  "kernelspec": {
   "display_name": "Python 3",
   "language": "python",
   "name": "python3"
  },
  "language_info": {
   "codemirror_mode": {
    "name": "ipython",
    "version": 3
   },
   "file_extension": ".py",
   "mimetype": "text/x-python",
   "name": "python",
   "nbconvert_exporter": "python",
   "pygments_lexer": "ipython3",
   "version": "3.5.2"
  }
 },
 "nbformat": 4,
 "nbformat_minor": 2
}
